{
 "cells": [
  {
   "cell_type": "code",
   "execution_count": 82,
   "metadata": {},
   "outputs": [],
   "source": [
    "import numpy as np\n",
    "import pandas as pd\n",
    "import seaborn as sns\n",
    "from sklearn import svm\n",
    "from sklearn.preprocessing import StandardScaler\n",
    "from sklearn.model_selection import train_test_split\n",
    "from sklearn.metrics import accuracy_score"
   ]
  },
  {
   "cell_type": "code",
   "execution_count": 83,
   "metadata": {},
   "outputs": [],
   "source": [
    "data_set = pd.read_csv('Crop_production.csv')"
   ]
  },
  {
   "cell_type": "code",
   "execution_count": 84,
   "metadata": {},
   "outputs": [
    {
     "data": {
      "text/html": [
       "<div>\n",
       "<style scoped>\n",
       "    .dataframe tbody tr th:only-of-type {\n",
       "        vertical-align: middle;\n",
       "    }\n",
       "\n",
       "    .dataframe tbody tr th {\n",
       "        vertical-align: top;\n",
       "    }\n",
       "\n",
       "    .dataframe thead th {\n",
       "        text-align: right;\n",
       "    }\n",
       "</style>\n",
       "<table border=\"1\" class=\"dataframe\">\n",
       "  <thead>\n",
       "    <tr style=\"text-align: right;\">\n",
       "      <th></th>\n",
       "      <th>Unnamed: 0</th>\n",
       "      <th>State_Name</th>\n",
       "      <th>Crop_Type</th>\n",
       "      <th>N</th>\n",
       "      <th>P</th>\n",
       "      <th>K</th>\n",
       "      <th>pH</th>\n",
       "      <th>rainfall</th>\n",
       "      <th>temperature</th>\n",
       "      <th>Area_in_hectares</th>\n",
       "      <th>Production_in_tons</th>\n",
       "      <th>Yield_ton_per_hec</th>\n",
       "      <th>Crop</th>\n",
       "    </tr>\n",
       "  </thead>\n",
       "  <tbody>\n",
       "    <tr>\n",
       "      <th>0</th>\n",
       "      <td>0</td>\n",
       "      <td>andhra pradesh</td>\n",
       "      <td>kharif</td>\n",
       "      <td>120</td>\n",
       "      <td>40</td>\n",
       "      <td>20</td>\n",
       "      <td>5.46</td>\n",
       "      <td>654.34</td>\n",
       "      <td>29.266667</td>\n",
       "      <td>7300.0</td>\n",
       "      <td>9400.0</td>\n",
       "      <td>1.287671</td>\n",
       "      <td>1</td>\n",
       "    </tr>\n",
       "    <tr>\n",
       "      <th>1</th>\n",
       "      <td>1</td>\n",
       "      <td>andhra pradesh</td>\n",
       "      <td>kharif</td>\n",
       "      <td>20</td>\n",
       "      <td>60</td>\n",
       "      <td>20</td>\n",
       "      <td>6.18</td>\n",
       "      <td>654.34</td>\n",
       "      <td>29.266667</td>\n",
       "      <td>3300.0</td>\n",
       "      <td>1000.0</td>\n",
       "      <td>0.303030</td>\n",
       "      <td>3</td>\n",
       "    </tr>\n",
       "    <tr>\n",
       "      <th>2</th>\n",
       "      <td>2</td>\n",
       "      <td>andhra pradesh</td>\n",
       "      <td>kharif</td>\n",
       "      <td>80</td>\n",
       "      <td>40</td>\n",
       "      <td>40</td>\n",
       "      <td>5.42</td>\n",
       "      <td>654.34</td>\n",
       "      <td>29.266667</td>\n",
       "      <td>10100.0</td>\n",
       "      <td>10200.0</td>\n",
       "      <td>1.009901</td>\n",
       "      <td>2</td>\n",
       "    </tr>\n",
       "    <tr>\n",
       "      <th>3</th>\n",
       "      <td>3</td>\n",
       "      <td>andhra pradesh</td>\n",
       "      <td>kharif</td>\n",
       "      <td>80</td>\n",
       "      <td>40</td>\n",
       "      <td>20</td>\n",
       "      <td>5.62</td>\n",
       "      <td>654.34</td>\n",
       "      <td>29.266667</td>\n",
       "      <td>2800.0</td>\n",
       "      <td>4900.0</td>\n",
       "      <td>1.750000</td>\n",
       "      <td>4</td>\n",
       "    </tr>\n",
       "    <tr>\n",
       "      <th>4</th>\n",
       "      <td>4</td>\n",
       "      <td>andhra pradesh</td>\n",
       "      <td>kharif</td>\n",
       "      <td>20</td>\n",
       "      <td>40</td>\n",
       "      <td>20</td>\n",
       "      <td>5.68</td>\n",
       "      <td>654.34</td>\n",
       "      <td>29.266667</td>\n",
       "      <td>1300.0</td>\n",
       "      <td>500.0</td>\n",
       "      <td>0.384615</td>\n",
       "      <td>5</td>\n",
       "    </tr>\n",
       "  </tbody>\n",
       "</table>\n",
       "</div>"
      ],
      "text/plain": [
       "   Unnamed: 0      State_Name Crop_Type    N   P   K    pH  rainfall   \n",
       "0           0  andhra pradesh    kharif  120  40  20  5.46    654.34  \\\n",
       "1           1  andhra pradesh    kharif   20  60  20  6.18    654.34   \n",
       "2           2  andhra pradesh    kharif   80  40  40  5.42    654.34   \n",
       "3           3  andhra pradesh    kharif   80  40  20  5.62    654.34   \n",
       "4           4  andhra pradesh    kharif   20  40  20  5.68    654.34   \n",
       "\n",
       "   temperature  Area_in_hectares  Production_in_tons  Yield_ton_per_hec  Crop  \n",
       "0    29.266667            7300.0              9400.0           1.287671     1  \n",
       "1    29.266667            3300.0              1000.0           0.303030     3  \n",
       "2    29.266667           10100.0             10200.0           1.009901     2  \n",
       "3    29.266667            2800.0              4900.0           1.750000     4  \n",
       "4    29.266667            1300.0               500.0           0.384615     5  "
      ]
     },
     "execution_count": 84,
     "metadata": {},
     "output_type": "execute_result"
    }
   ],
   "source": [
    "data_set.head()"
   ]
  },
  {
   "cell_type": "code",
   "execution_count": 85,
   "metadata": {},
   "outputs": [
    {
     "data": {
      "text/plain": [
       "(99827, 13)"
      ]
     },
     "execution_count": 85,
     "metadata": {},
     "output_type": "execute_result"
    }
   ],
   "source": [
    "data_set.shape"
   ]
  },
  {
   "cell_type": "code",
   "execution_count": 86,
   "metadata": {},
   "outputs": [
    {
     "data": {
      "text/html": [
       "<div>\n",
       "<style scoped>\n",
       "    .dataframe tbody tr th:only-of-type {\n",
       "        vertical-align: middle;\n",
       "    }\n",
       "\n",
       "    .dataframe tbody tr th {\n",
       "        vertical-align: top;\n",
       "    }\n",
       "\n",
       "    .dataframe thead th {\n",
       "        text-align: right;\n",
       "    }\n",
       "</style>\n",
       "<table border=\"1\" class=\"dataframe\">\n",
       "  <thead>\n",
       "    <tr style=\"text-align: right;\">\n",
       "      <th></th>\n",
       "      <th>Unnamed: 0</th>\n",
       "      <th>N</th>\n",
       "      <th>P</th>\n",
       "      <th>K</th>\n",
       "      <th>pH</th>\n",
       "      <th>rainfall</th>\n",
       "      <th>temperature</th>\n",
       "      <th>Area_in_hectares</th>\n",
       "      <th>Production_in_tons</th>\n",
       "      <th>Yield_ton_per_hec</th>\n",
       "      <th>Crop</th>\n",
       "    </tr>\n",
       "  </thead>\n",
       "  <tbody>\n",
       "    <tr>\n",
       "      <th>count</th>\n",
       "      <td>99827.000000</td>\n",
       "      <td>99827.000000</td>\n",
       "      <td>99827.000000</td>\n",
       "      <td>99827.000000</td>\n",
       "      <td>99827.000000</td>\n",
       "      <td>99827.000000</td>\n",
       "      <td>99827.000000</td>\n",
       "      <td>99827.000000</td>\n",
       "      <td>9.982700e+04</td>\n",
       "      <td>99827.000000</td>\n",
       "      <td>99827.000000</td>\n",
       "    </tr>\n",
       "    <tr>\n",
       "      <th>mean</th>\n",
       "      <td>49926.686067</td>\n",
       "      <td>69.816483</td>\n",
       "      <td>41.593907</td>\n",
       "      <td>42.036373</td>\n",
       "      <td>5.643616</td>\n",
       "      <td>701.110678</td>\n",
       "      <td>26.683940</td>\n",
       "      <td>16480.164759</td>\n",
       "      <td>3.776982e+04</td>\n",
       "      <td>3.931511</td>\n",
       "      <td>11.064642</td>\n",
       "    </tr>\n",
       "    <tr>\n",
       "      <th>std</th>\n",
       "      <td>28826.675865</td>\n",
       "      <td>39.571385</td>\n",
       "      <td>15.052453</td>\n",
       "      <td>28.426910</td>\n",
       "      <td>0.505298</td>\n",
       "      <td>604.762055</td>\n",
       "      <td>4.851727</td>\n",
       "      <td>43608.404049</td>\n",
       "      <td>1.222565e+05</td>\n",
       "      <td>33.875783</td>\n",
       "      <td>7.736309</td>\n",
       "    </tr>\n",
       "    <tr>\n",
       "      <th>min</th>\n",
       "      <td>0.000000</td>\n",
       "      <td>10.000000</td>\n",
       "      <td>10.000000</td>\n",
       "      <td>10.000000</td>\n",
       "      <td>3.820000</td>\n",
       "      <td>3.274569</td>\n",
       "      <td>1.180000</td>\n",
       "      <td>0.580000</td>\n",
       "      <td>0.000000e+00</td>\n",
       "      <td>0.000000</td>\n",
       "      <td>1.000000</td>\n",
       "    </tr>\n",
       "    <tr>\n",
       "      <th>25%</th>\n",
       "      <td>24956.500000</td>\n",
       "      <td>50.000000</td>\n",
       "      <td>40.000000</td>\n",
       "      <td>20.000000</td>\n",
       "      <td>5.360000</td>\n",
       "      <td>157.310000</td>\n",
       "      <td>23.106000</td>\n",
       "      <td>130.000000</td>\n",
       "      <td>1.630000e+02</td>\n",
       "      <td>0.586601</td>\n",
       "      <td>5.000000</td>\n",
       "    </tr>\n",
       "    <tr>\n",
       "      <th>50%</th>\n",
       "      <td>49935.000000</td>\n",
       "      <td>75.000000</td>\n",
       "      <td>40.000000</td>\n",
       "      <td>30.000000</td>\n",
       "      <td>5.540000</td>\n",
       "      <td>579.750000</td>\n",
       "      <td>27.333333</td>\n",
       "      <td>1010.000000</td>\n",
       "      <td>1.507000e+03</td>\n",
       "      <td>1.329650</td>\n",
       "      <td>9.000000</td>\n",
       "    </tr>\n",
       "    <tr>\n",
       "      <th>75%</th>\n",
       "      <td>74891.500000</td>\n",
       "      <td>80.000000</td>\n",
       "      <td>60.000000</td>\n",
       "      <td>50.000000</td>\n",
       "      <td>5.960000</td>\n",
       "      <td>1110.780000</td>\n",
       "      <td>29.266667</td>\n",
       "      <td>8100.000000</td>\n",
       "      <td>1.440000e+04</td>\n",
       "      <td>2.997404</td>\n",
       "      <td>16.000000</td>\n",
       "    </tr>\n",
       "    <tr>\n",
       "      <th>max</th>\n",
       "      <td>99848.000000</td>\n",
       "      <td>180.000000</td>\n",
       "      <td>125.000000</td>\n",
       "      <td>200.000000</td>\n",
       "      <td>7.000000</td>\n",
       "      <td>3322.060000</td>\n",
       "      <td>35.346667</td>\n",
       "      <td>726300.000000</td>\n",
       "      <td>3.530571e+06</td>\n",
       "      <td>9801.000000</td>\n",
       "      <td>54.000000</td>\n",
       "    </tr>\n",
       "  </tbody>\n",
       "</table>\n",
       "</div>"
      ],
      "text/plain": [
       "         Unnamed: 0             N             P             K            pH   \n",
       "count  99827.000000  99827.000000  99827.000000  99827.000000  99827.000000  \\\n",
       "mean   49926.686067     69.816483     41.593907     42.036373      5.643616   \n",
       "std    28826.675865     39.571385     15.052453     28.426910      0.505298   \n",
       "min        0.000000     10.000000     10.000000     10.000000      3.820000   \n",
       "25%    24956.500000     50.000000     40.000000     20.000000      5.360000   \n",
       "50%    49935.000000     75.000000     40.000000     30.000000      5.540000   \n",
       "75%    74891.500000     80.000000     60.000000     50.000000      5.960000   \n",
       "max    99848.000000    180.000000    125.000000    200.000000      7.000000   \n",
       "\n",
       "           rainfall   temperature  Area_in_hectares  Production_in_tons   \n",
       "count  99827.000000  99827.000000      99827.000000        9.982700e+04  \\\n",
       "mean     701.110678     26.683940      16480.164759        3.776982e+04   \n",
       "std      604.762055      4.851727      43608.404049        1.222565e+05   \n",
       "min        3.274569      1.180000          0.580000        0.000000e+00   \n",
       "25%      157.310000     23.106000        130.000000        1.630000e+02   \n",
       "50%      579.750000     27.333333       1010.000000        1.507000e+03   \n",
       "75%     1110.780000     29.266667       8100.000000        1.440000e+04   \n",
       "max     3322.060000     35.346667     726300.000000        3.530571e+06   \n",
       "\n",
       "       Yield_ton_per_hec          Crop  \n",
       "count       99827.000000  99827.000000  \n",
       "mean            3.931511     11.064642  \n",
       "std            33.875783      7.736309  \n",
       "min             0.000000      1.000000  \n",
       "25%             0.586601      5.000000  \n",
       "50%             1.329650      9.000000  \n",
       "75%             2.997404     16.000000  \n",
       "max          9801.000000     54.000000  "
      ]
     },
     "execution_count": 86,
     "metadata": {},
     "output_type": "execute_result"
    }
   ],
   "source": [
    "data_set.describe()"
   ]
  },
  {
   "cell_type": "code",
   "execution_count": 87,
   "metadata": {},
   "outputs": [
    {
     "data": {
      "text/plain": [
       "Unnamed: 0            0\n",
       "State_Name            0\n",
       "Crop_Type             0\n",
       "N                     0\n",
       "P                     0\n",
       "K                     0\n",
       "pH                    0\n",
       "rainfall              0\n",
       "temperature           0\n",
       "Area_in_hectares      0\n",
       "Production_in_tons    0\n",
       "Yield_ton_per_hec     0\n",
       "Crop                  0\n",
       "dtype: int64"
      ]
     },
     "execution_count": 87,
     "metadata": {},
     "output_type": "execute_result"
    }
   ],
   "source": [
    "data_set.isnull().sum()"
   ]
  },
  {
   "cell_type": "code",
   "execution_count": 88,
   "metadata": {},
   "outputs": [
    {
     "data": {
      "text/plain": [
       "Crop\n",
       "7     11430\n",
       "4      9857\n",
       "5      6855\n",
       "10     6291\n",
       "9      6225\n",
       "12     5413\n",
       "2      5369\n",
       "16     5323\n",
       "15     5164\n",
       "8      3682\n",
       "1      3157\n",
       "21     3139\n",
       "6      2995\n",
       "17     2899\n",
       "3      2784\n",
       "20     2562\n",
       "22     2408\n",
       "11     2325\n",
       "23     2253\n",
       "24     2138\n",
       "14     1154\n",
       "18     1134\n",
       "13     1058\n",
       "27      732\n",
       "25      571\n",
       "33      330\n",
       "36      284\n",
       "30      282\n",
       "35      281\n",
       "26      237\n",
       "29      217\n",
       "34      146\n",
       "37      125\n",
       "39      117\n",
       "44      105\n",
       "32      104\n",
       "42       90\n",
       "41       73\n",
       "31       72\n",
       "40       67\n",
       "47       59\n",
       "28       58\n",
       "38       58\n",
       "46       45\n",
       "50       31\n",
       "45       28\n",
       "48       25\n",
       "52       19\n",
       "51       18\n",
       "54       18\n",
       "49       12\n",
       "43        6\n",
       "53        2\n",
       "Name: count, dtype: int64"
      ]
     },
     "execution_count": 88,
     "metadata": {},
     "output_type": "execute_result"
    }
   ],
   "source": [
    "data_set['Crop'].value_counts()"
   ]
  },
  {
   "cell_type": "code",
   "execution_count": 89,
   "metadata": {},
   "outputs": [],
   "source": [
    "X = data_set.drop(columns=['State_Name','Crop_Type','Area_in_hectares','Production_in_tons','Crop'], axis = 1)\n",
    "Y = data_set['Crop']"
   ]
  },
  {
   "cell_type": "code",
   "execution_count": 90,
   "metadata": {},
   "outputs": [
    {
     "name": "stdout",
     "output_type": "stream",
     "text": [
      "       Unnamed: 0    N   P   K    pH  rainfall  temperature  Yield_ton_per_hec\n",
      "0               0  120  40  20  5.46    654.34    29.266667           1.287671\n",
      "1               1   20  60  20  6.18    654.34    29.266667           0.303030\n",
      "2               2   80  40  40  5.42    654.34    29.266667           1.009901\n",
      "3               3   80  40  20  5.62    654.34    29.266667           1.750000\n",
      "4               4   20  40  20  5.68    654.34    29.266667           0.384615\n",
      "...           ...  ...  ..  ..   ...       ...          ...                ...\n",
      "99822       99844   60  30  30  6.70    152.54    22.280000           2.559364\n",
      "99823       99845   80  40  20  5.68    182.50    29.200000           1.515504\n",
      "99824       99846   80  40  40  5.64    182.50    29.200000           2.676190\n",
      "99825       99847   80  40  40  5.42    152.54    22.280000           1.712352\n",
      "99826       99848   30  15  30  6.54    152.54    22.280000           0.389344\n",
      "\n",
      "[99827 rows x 8 columns]\n"
     ]
    }
   ],
   "source": [
    "print(X)"
   ]
  },
  {
   "cell_type": "code",
   "execution_count": 91,
   "metadata": {},
   "outputs": [
    {
     "name": "stdout",
     "output_type": "stream",
     "text": [
      "0         1\n",
      "1         3\n",
      "2         2\n",
      "3         4\n",
      "4         5\n",
      "         ..\n",
      "99822     9\n",
      "99823     4\n",
      "99824     7\n",
      "99825     7\n",
      "99826    10\n",
      "Name: Crop, Length: 99827, dtype: int64\n"
     ]
    }
   ],
   "source": [
    "print(Y)"
   ]
  },
  {
   "cell_type": "code",
   "execution_count": 92,
   "metadata": {},
   "outputs": [
    {
     "data": {
      "image/png": "[encoded data removed]",
      "text/plain": [
       "<Figure size 640x480 with 2 Axes>"
      ]
     },
     "metadata": {},
     "output_type": "display_data"
    }
   ],
   "source": [
    "ax = sns.heatmap(X.corr(), annot=True)"
   ]
  },
  {
   "cell_type": "code",
   "execution_count": 93,
   "metadata": {},
   "outputs": [],
   "source": [
    "X_train, X_test,Y_train,Y_test = train_test_split(X, Y, test_size=.3, stratify=Y, random_state=44)"
   ]
  },
  {
   "cell_type": "code",
   "execution_count": 94,
   "metadata": {},
   "outputs": [],
   "source": [
    "from sklearn.ensemble import RandomForestClassifier\n",
    "from sklearn.model_selection import train_test_split\n",
    "from sklearn.metrics import accuracy_score\n",
    "\n",
    "rf = RandomForestClassifier(n_estimators=100)"
   ]
  },
  {
   "cell_type": "code",
   "execution_count": 95,
   "metadata": {},
   "outputs": [],
   "source": [
    "# Fit the model on the training data\n",
    "rf.fit(X_train, Y_train)\n",
    "\n",
    "# Predict the target for the test set\n",
    "y_pred1 = rf.predict(X_test)\n",
    "# y_pred2 = rf.predict(Y_test)"
   ]
  },
  {
   "cell_type": "code",
   "execution_count": 96,
   "metadata": {},
   "outputs": [
    {
     "name": "stdout",
     "output_type": "stream",
     "text": [
      "Accuracy: 0.9818691776019233\n"
     ]
    }
   ],
   "source": [
    "accuracy = accuracy_score(Y_test, y_pred1)\n",
    "\n",
    "print(f'Accuracy: {accuracy}')"
   ]
  }
 ],
 "metadata": {
  "kernelspec": {
   "display_name": "Python 3",
   "language": "python",
   "name": "python3"
  },
  "language_info": {
   "codemirror_mode": {
    "name": "ipython",
    "version": 3
   },
   "file_extension": ".py",
   "mimetype": "text/x-python",
   "name": "python",
   "nbconvert_exporter": "python",
   "pygments_lexer": "ipython3",
   "version": "3.10.2"
  }
 },
 "nbformat": 4,
 "nbformat_minor": 2
}
