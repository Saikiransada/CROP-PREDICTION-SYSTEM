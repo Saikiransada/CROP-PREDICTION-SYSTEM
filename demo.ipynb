{
 "cells": [
  {
   "cell_type": "code",
   "execution_count": 1,
   "metadata": {},
   "outputs": [],
   "source": [
    "import numpy as np\n",
    "import pandas as pd\n",
    "import seaborn as sns\n",
    "from sklearn import svm\n",
    "from sklearn.preprocessing import StandardScaler\n",
    "from sklearn.model_selection import train_test_split\n",
    "from sklearn.metrics import accuracy_score"
   ]
  },
  {
   "cell_type": "code",
   "execution_count": 6,
   "metadata": {},
   "outputs": [],
   "source": [
    "data = pd.read_csv(\"Crop_production.csv\")\n"
   ]
  },
  {
   "cell_type": "code",
   "execution_count": 5,
   "metadata": {},
   "outputs": [
    {
     "name": "stdout",
     "output_type": "stream",
     "text": [
      "Missing values after preprocessing:\n",
      "Unnamed: 0            0\n",
      "State_Name            0\n",
      "Crop_Type             0\n",
      "N                     0\n",
      "P                     0\n",
      "K                     0\n",
      "pH                    0\n",
      "rainfall              0\n",
      "temperature           0\n",
      "Area_in_hectares      0\n",
      "Production_in_tons    0\n",
      "Yield_ton_per_hec     0\n",
      "Crop                  0\n",
      "dtype: int64\n",
      "\n",
      "Processed dataset:\n",
      "   Crop  temperature  Production_in_tons\n",
      "0     1    15.500000                30.0\n",
      "1     1    15.852000              7738.0\n",
      "2     1    21.300000             58229.0\n",
      "3     1    22.033333               122.0\n",
      "4     1    22.070000             86659.0\n"
     ]
    }
   ],
   "source": [
    "data.dropna(inplace=True)\n",
    "\n",
    "# Convert 'Area' column to numeric\n",
    "data['Area_in_hectares'] = pd.to_numeric(data['Area_in_hectares'], errors='coerce')\n",
    "\n",
    "# Convert 'Production' column to numeric\n",
    "data['Production_in_tons'] = pd.to_numeric(data['Production_in_tons'], errors='coerce')\n",
    "\n",
    "# Remove outliers\n",
    "Q1 = data['Production_in_tons'].quantile(0.25)\n",
    "Q3 = data['Production_in_tons'].quantile(0.75)\n",
    "IQR = Q3 - Q1\n",
    "data = data[(data['Production_in_tons'] >= Q1 - 1.5 * IQR) & (data['Production_in_tons'] <= Q3 + 1.5 * IQR)]\n",
    "\n",
    "# Data Transformation\n",
    "# Convert 'Crop_Year' to datetime\n",
    "# data['Crop_Year'] = pd.to_datetime(data['Crop_Year'], format='%Y')\n",
    "\n",
    "# Data Aggregation\n",
    "# Group data by crop and year, summing up the production\n",
    "crop_year_production = data.groupby(['Crop', 'temperature'])['Production_in_tons'].sum().reset_index()\n",
    "\n",
    "# Data Exploration (optional)\n",
    "# Check for any missing values after preprocessing\n",
    "print(\"Missing values after preprocessing:\")\n",
    "print(data.isnull().sum())\n",
    "\n",
    "# Display the first few rows of the processed dataset\n",
    "print(\"\\nProcessed dataset:\")\n",
    "print(crop_year_production.head())"
   ]
  },
  {
   "cell_type": "code",
   "execution_count": null,
   "metadata": {},
   "outputs": [],
   "source": []
  }
 ],
 "metadata": {
  "kernelspec": {
   "display_name": "Python 3",
   "language": "python",
   "name": "python3"
  },
  "language_info": {
   "codemirror_mode": {
    "name": "ipython",
    "version": 3
   },
   "file_extension": ".py",
   "mimetype": "text/x-python",
   "name": "python",
   "nbconvert_exporter": "python",
   "pygments_lexer": "ipython3",
   "version": "3.10.2"
  }
 },
 "nbformat": 4,
 "nbformat_minor": 2
}
